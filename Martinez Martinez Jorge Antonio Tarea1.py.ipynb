{
 "cells": [
  {
   "cell_type": "code",
   "execution_count": 61,
   "metadata": {},
   "outputs": [],
   "source": [
    "A = [34, 79, 21, 54, 23, 96, 44, 64, 89, 8, 86, 44, 8, 79, 92, 2, 42, 83, 95, 0, 50]"
   ]
  },
  {
   "cell_type": "code",
   "execution_count": 8,
   "metadata": {},
   "outputs": [],
   "source": [
    "#a) El cuadrado de cada uno de los elementos de la lista y guardarlos en una nueva lista\n",
    "NL = []\n",
    "for x in A:\n",
    "    x = x ** 2 \n",
    "    NL.append(x)\n",
    "NL"
   ]
  },
  {
   "cell_type": "code",
   "execution_count": 23,
   "metadata": {},
   "outputs": [
    {
     "data": {
      "text/plain": [
       "78799"
      ]
     },
     "execution_count": 23,
     "metadata": {},
     "output_type": "execute_result"
    }
   ],
   "source": [
    "# b) La suma de los cuadrados de los elementos de la lista\n",
    "suma = 0\n",
    "for x in range (len(A)):\n",
    "     suma = (A[x] ** 2) + suma \n",
    "suma"
   ]
  },
  {
   "cell_type": "code",
   "execution_count": 29,
   "metadata": {},
   "outputs": [
    {
     "data": {
      "text/plain": [
       "3856.4285714285716"
      ]
     },
     "execution_count": 29,
     "metadata": {},
     "output_type": "execute_result"
    }
   ],
   "source": [
    "# c) El promedio de los elementos de la lista\n",
    "suma2 = 0 \n",
    "for x in A:\n",
    "    suma = x + suma \n",
    "promedio = suma / len(A)\n",
    "promedio "
   ]
  },
  {
   "cell_type": "code",
   "execution_count": 125,
   "metadata": {},
   "outputs": [
    {
     "data": {
      "text/plain": [
       "[96,\n",
       " 96,\n",
       " 96,\n",
       " 96,\n",
       " 96,\n",
       " 96,\n",
       " 96,\n",
       " 96,\n",
       " 96,\n",
       " 96,\n",
       " 96,\n",
       " 96,\n",
       " 96,\n",
       " 96,\n",
       " 96,\n",
       " 96,\n",
       " 96,\n",
       " 96,\n",
       " 96,\n",
       " 96,\n",
       " 96]"
      ]
     },
     "execution_count": 125,
     "metadata": {},
     "output_type": "execute_result"
    }
   ],
   "source": [
    "# e) Ordenar la lista de mayor a menor valor\n",
    "A = [34, 79, 21, 54, 23, 96, 44, 64, 89, 8, 86, 44, 8, 79, 92, 2, 42, 83, 95, 0, 50]\n",
    "may_men = []\n",
    "num = A[0]\n",
    "while len(A) > 0:\n",
    "    for x in range(len(A)):\n",
    "        if num < A[x]:\n",
    "            num = A[x]\n",
    "    A.pop(x)\n",
    "    may_men.append(num)\n",
    "\n",
    "may_men"
   ]
  },
  {
   "cell_type": "code",
   "execution_count": 115,
   "metadata": {},
   "outputs": [
    {
     "data": {
      "text/plain": [
       "[0, 0, 0, 0, 0, 0, 0, 0, 0, 0, 0, 0, 0, 0, 0, 0, 0, 0, 0, 0, 0]"
      ]
     },
     "execution_count": 115,
     "metadata": {},
     "output_type": "execute_result"
    }
   ],
   "source": [
    "A = [34, 79, 21, 54, 23, 96, 44, 64, 89, 8, 86, 44, 8, 79, 92, 2, 42, 83, 95, 0, 50]\n",
    "MY = []\n",
    "numero = A[0]\n",
    "while len(A) > 0:\n",
    "    for x in range(len(A)):\n",
    "        if numero > A[x]:\n",
    "            numero = A[x]\n",
    "    A.pop(x)\n",
    "    MY.append(numero)\n",
    "\n",
    "MY\n",
    "    \n",
    "            \n",
    "    "
   ]
  }
 ],
 "metadata": {
  "kernelspec": {
   "display_name": "Python 3",
   "language": "python",
   "name": "python3"
  },
  "language_info": {
   "codemirror_mode": {
    "name": "ipython",
    "version": 3
   },
   "file_extension": ".py",
   "mimetype": "text/x-python",
   "name": "python",
   "nbconvert_exporter": "python",
   "pygments_lexer": "ipython3",
   "version": "3.6.5"
  }
 },
 "nbformat": 4,
 "nbformat_minor": 2
}
