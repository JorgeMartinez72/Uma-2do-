{
 "cells": [
  {
   "cell_type": "code",
   "execution_count": 60,
   "metadata": {},
   "outputs": [],
   "source": [
    "A = [34, 79, 21, 54, 23, 96, 44, 64, 89, 8, 86, 44, 8, 79, 92, 2, 42, 83, 95, 0, 50]"
   ]
  },
  {
   "cell_type": "code",
   "execution_count": 50,
   "metadata": {},
   "outputs": [
    {
     "data": {
      "text/plain": [
       "[1156,\n",
       " 6241,\n",
       " 441,\n",
       " 2916,\n",
       " 529,\n",
       " 9216,\n",
       " 1936,\n",
       " 4096,\n",
       " 7921,\n",
       " 64,\n",
       " 7396,\n",
       " 1936,\n",
       " 64,\n",
       " 6241,\n",
       " 8464,\n",
       " 4,\n",
       " 1764,\n",
       " 6889,\n",
       " 9025,\n",
       " 0,\n",
       " 2500]"
      ]
     },
     "execution_count": 50,
     "metadata": {},
     "output_type": "execute_result"
    }
   ],
   "source": [
    "#a) El cuadrado de cada uno de los elementos de la lista y guardarlos en una nueva lista\n",
    "NL = []\n",
    "for x in A:\n",
    "    x = x ** 2 \n",
    "    NL.append(x)\n",
    "NL"
   ]
  },
  {
   "cell_type": "code",
   "execution_count": 41,
   "metadata": {},
   "outputs": [
    {
     "data": {
      "text/plain": [
       "78799"
      ]
     },
     "execution_count": 41,
     "metadata": {},
     "output_type": "execute_result"
    }
   ],
   "source": [
    "# b) La suma de los cuadrados de los elementos de la lista\n",
    "suma = 0\n",
    "for x in range (len(A)):\n",
    "     suma = (A[x] ** 2) + suma \n",
    "suma"
   ]
  },
  {
   "cell_type": "code",
   "execution_count": 51,
   "metadata": {},
   "outputs": [
    {
     "data": {
      "text/plain": [
       "3856.4285714285716"
      ]
     },
     "execution_count": 51,
     "metadata": {},
     "output_type": "execute_result"
    }
   ],
   "source": [
    "# c) El promedio de los elementos de la lista\n",
    "suma2 = 0 \n",
    "for x in A:\n",
    "    suma = x + suma \n",
    "promedio = suma / len(A)\n",
    "promedio "
   ]
  },
  {
   "cell_type": "code",
   "execution_count": 53,
   "metadata": {},
   "outputs": [
    {
     "name": "stdout",
     "output_type": "stream",
     "text": [
      "[]\n"
     ]
    }
   ],
   "source": [
    "# e) Ordenar la lista de mayor a menor valor\n",
    "B = A\n",
    "may_men = []\n",
    "while len(B) > 0:\n",
    "    num = B[0]\n",
    "    for x in range(len(B)):\n",
    "        if num < B[x]:\n",
    "            num = B[x]\n",
    "            posicion = x\n",
    "    B.pop(x)\n",
    "        \n",
    "    may_men.append(num)\n",
    "\n",
    "print(may_men)"
   ]
  },
  {
   "cell_type": "code",
   "execution_count": 61,
   "metadata": {
    "scrolled": true
   },
   "outputs": [
    {
     "name": "stdout",
     "output_type": "stream",
     "text": [
      "[0, 2, 8, 8, 21, 23, 34, 42, 44, 44, 50, 54, 64, 79, 79, 83, 86, 89, 92, 95, 96]\n"
     ]
    }
   ],
   "source": [
    "\n",
    "for recorrido in range(1, len(A)):\n",
    "    for posicion in range(len(A) - recorrido):\n",
    "        if A[posicion] > A[posicion + 1]:\n",
    "            temporal = A[posicion]\n",
    "            A[posicion] = A[posicion + 1]\n",
    "            A[posicion + 1] = temporal\n",
    "print(A)\n",
    "        \n"
   ]
  },
  {
   "cell_type": "code",
   "execution_count": 45,
   "metadata": {},
   "outputs": [
    {
     "data": {
      "text/plain": [
       "[79, 23, 89, 79, 83]"
      ]
     },
     "execution_count": 45,
     "metadata": {},
     "output_type": "execute_result"
    }
   ],
   "source": [
    "A = [34, 79, 21, 54, 23, 96, 44, 64, 89, 8, 86, 44, 8, 79, 92, 2, 42, 83, 95, 0, 50]\n",
    "primos = []\n",
    "for x in A:\n",
    "    divisor=2\n",
    "    primo=0\n",
    "    while x % divisor != 0:\n",
    "        if divisor < x - 1:\n",
    "            divisor = divisor + 1\n",
    "        else:\n",
    "            primo = 1\n",
    "            divisor = x\n",
    "\n",
    "    if primo ==1:\n",
    "        primos.append(x)\n",
    "    else:\n",
    "        pass\n",
    "primos"
   ]
  },
  {
   "cell_type": "code",
   "execution_count": 62,
   "metadata": {},
   "outputs": [
    {
     "name": "stdout",
     "output_type": "stream",
     "text": [
      "[96, 95, 92, 89, 86, 83, 79, 79, 64, 54, 50, 44, 44, 42, 34, 23, 21, 8, 8, 2, 0]\n"
     ]
    }
   ],
   "source": [
    "C = A\n",
    "may_men = []\n",
    "while len(C) > 0:\n",
    "    num = C[0]\n",
    "    for x in range(len(C)):\n",
    "        if num < C[x]:\n",
    "            num = C[x]\n",
    "            posicion = x\n",
    "    C.pop(x)\n",
    "        \n",
    "    may_men.append(num)\n",
    "\n",
    "print(may_men)\n"
   ]
  },
  {
   "cell_type": "code",
   "execution_count": 58,
   "metadata": {},
   "outputs": [
    {
     "data": {
      "text/plain": [
       "[]"
      ]
     },
     "execution_count": 58,
     "metadata": {},
     "output_type": "execute_result"
    }
   ],
   "source": [
    "A"
   ]
  },
  {
   "cell_type": "code",
   "execution_count": null,
   "metadata": {},
   "outputs": [],
   "source": []
  }
 ],
 "metadata": {
  "kernelspec": {
   "display_name": "Python 3",
   "language": "python",
   "name": "python3"
  },
  "language_info": {
   "codemirror_mode": {
    "name": "ipython",
    "version": 3
   },
   "file_extension": ".py",
   "mimetype": "text/x-python",
   "name": "python",
   "nbconvert_exporter": "python",
   "pygments_lexer": "ipython3",
   "version": "3.6.5"
  }
 },
 "nbformat": 4,
 "nbformat_minor": 2
}
